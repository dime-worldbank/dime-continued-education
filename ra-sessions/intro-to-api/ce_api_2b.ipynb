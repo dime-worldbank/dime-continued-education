{
  "nbformat": 4,
  "nbformat_minor": 0,
  "metadata": {
    "colab": {
      "name": "ce-api-2a.ipynb",
      "provenance": [],
      "authorship_tag": "ABX9TyNqtzfwcbjCEAbSW83DNY4v"
    },
    "kernelspec": {
      "name": "python3",
      "display_name": "Python 3"
    },
    "language_info": {
      "name": "python"
    }
  },
  "cells": [
    {
      "cell_type": "code",
      "metadata": {
        "id": "9w7i_LuKedi3"
      },
      "source": [
        "import requests, json\n",
        "\n",
        "def currency_converter(ex_from,ex_to,amount):\n",
        "\n",
        "  #prepare parameters\n",
        "  variables = {\n",
        "      'base':ex_from,\n",
        "      'symbols':ex_to\n",
        "      }\n",
        "\n",
        "  #make the request\n",
        "  rates = requests.get('https://api.exchangeratesapi.io/latest', params=variables) \n",
        "  print('rates.url is:    {}'.format(rates.url))\n",
        "  print('rates.text is:   {}'.format(rates.text))\n",
        "\n",
        "  #convert json string to dict\n",
        "  rates = json.loads(rates.text)\n",
        "  rate = rates['rates'][ex_to]\n",
        "  print('rate is:         {}'.format(rate))\n",
        "\n",
        "  #Make the conversion\n",
        "  converted_amount = amount * rate\n",
        "\n",
        "  #Print the results\n",
        "  print('')\n",
        "  print('{} {} is equal to {} {}'.format(amount,ex_from,converted_amount,ex_to))\n"
      ],
      "execution_count": 1,
      "outputs": []
    },
    {
      "cell_type": "code",
      "metadata": {
        "id": "Ht-FBQzCefiJ"
      },
      "source": [
        "currency_converter(ex_from='USD',ex_to='EUR',amount=100)"
      ],
      "execution_count": null,
      "outputs": []
    }
  ]
}