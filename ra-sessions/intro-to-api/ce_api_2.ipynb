{
  "nbformat": 4,
  "nbformat_minor": 0,
  "metadata": {
    "colab": {
      "name": "ce-api-2.ipynb",
      "provenance": [],
      "collapsed_sections": [],
      "authorship_tag": "ABX9TyM7sfY5qNHlB1CHpwUepgQQ",
      "include_colab_link": true
    },
    "kernelspec": {
      "name": "python3",
      "display_name": "Python 3"
    },
    "language_info": {
      "name": "python"
    }
  },
  "cells": [
    {
      "cell_type": "markdown",
      "metadata": {
        "id": "view-in-github",
        "colab_type": "text"
      },
      "source": [
        "<a href=\"https://colab.research.google.com/github/dime-worldbank/dime-continued-education/blob/main/ra-sessions/intro-to-api/ce_api_2.ipynb\" target=\"_parent\"><img src=\"https://colab.research.google.com/assets/colab-badge.svg\" alt=\"Open In Colab\"/></a>"
      ]
    },
    {
      "cell_type": "code",
      "metadata": {
        "id": "N2zFTshQYTGA"
      },
      "source": [
        "import requests, json\n",
        "\n",
        "def currency_converter(currency_from,currency_to,amount):\n",
        "\n",
        "  #prepare parameters\n",
        "  variables = {\n",
        "      'base':currency_from,\n",
        "      'symbols':currency_to\n",
        "      }\n",
        "\n",
        "  #make the request\n",
        "  rates_request = requests.get('https://api.exchangeratesapi.io/latest', params=variables) \n",
        "  print('rates_request.url is:  {}'.format(rates_request.url))\n",
        "  print('rates_request.text is: {}'.format(rates_request.text))\n",
        "\n",
        "  #convert json string to dict\n",
        "  rates_dict = json.loads(rates_request.text)\n",
        "  rate = rates_dict['rates'][currency_to]\n",
        "  print('rate is:               {}'.format(rate))\n",
        "\n",
        "  #Make the conversion\n",
        "  converted_amount = amount * rate\n",
        "\n",
        "  #Print the results\n",
        "  print('')\n",
        "  print('{} {} is equal to {} {}'.format(amount,currency_from,converted_amount,currency_to))\n"
      ],
      "execution_count": null,
      "outputs": []
    },
    {
      "cell_type": "code",
      "metadata": {
        "id": "2gfepzMpaFX4"
      },
      "source": [
        "currency_converter(currency_from='USD',currency_to='EUR',amount=100)"
      ],
      "execution_count": null,
      "outputs": []
    }
  ]
}