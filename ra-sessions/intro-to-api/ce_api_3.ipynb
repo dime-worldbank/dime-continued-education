{
  "nbformat": 4,
  "nbformat_minor": 0,
  "metadata": {
    "colab": {
      "name": "ce-api-3.ipynb",
      "provenance": [],
      "authorship_tag": "ABX9TyMzXj2+hni7Mdsrm+Ae+zWR",
      "include_colab_link": true
    },
    "kernelspec": {
      "name": "python3",
      "display_name": "Python 3"
    },
    "language_info": {
      "name": "python"
    }
  },
  "cells": [
    {
      "cell_type": "markdown",
      "metadata": {
        "id": "view-in-github",
        "colab_type": "text"
      },
      "source": [
        "<a href=\"https://colab.research.google.com/github/dime-worldbank/dime-continued-education/blob/main/ra-sessions/intro-to-api/ce_api_3.ipynb\" target=\"_parent\"><img src=\"https://colab.research.google.com/assets/colab-badge.svg\" alt=\"Open In Colab\"/></a>"
      ]
    },
    {
      "cell_type": "code",
      "metadata": {
        "id": "3xppfXuMyooJ"
      },
      "source": [
        "!pip install wbgapi"
      ],
      "execution_count": null,
      "outputs": []
    },
    {
      "cell_type": "code",
      "metadata": {
        "id": "JX6r4XZXyVr0"
      },
      "source": [
        "import wbgapi as wb"
      ],
      "execution_count": null,
      "outputs": []
    },
    {
      "cell_type": "code",
      "metadata": {
        "id": "8ulE8gqgy0-d"
      },
      "source": [
        "wb.source.info()"
      ],
      "execution_count": null,
      "outputs": []
    },
    {
      "cell_type": "code",
      "metadata": {
        "id": "HW7YqEoOzNEq"
      },
      "source": [
        "wb.economy.info(['CAN', 'USA', 'MEX'])"
      ],
      "execution_count": null,
      "outputs": []
    },
    {
      "cell_type": "code",
      "metadata": {
        "id": "Ydn5ME57zW_w"
      },
      "source": [
        "df = wb.data.DataFrame(series=['NY.GDP.PCAP.CD', 'SP.POP.TOTL','SE.PRM.CMPT.MA.ZS'], economy=['CAN', 'USA', 'MEX'], mrv=5)"
      ],
      "execution_count": null,
      "outputs": []
    },
    {
      "cell_type": "code",
      "metadata": {
        "id": "LXEwbmZmzubN"
      },
      "source": [
        "print(type(df))"
      ],
      "execution_count": null,
      "outputs": []
    },
    {
      "cell_type": "code",
      "metadata": {
        "id": "5hsON8aw0sIP"
      },
      "source": [
        "df"
      ],
      "execution_count": null,
      "outputs": []
    },
    {
      "cell_type": "code",
      "metadata": {
        "id": "NkwJcLOqeoHS"
      },
      "source": [
        "help(wb.data)"
      ],
      "execution_count": null,
      "outputs": []
    }
  ]
}