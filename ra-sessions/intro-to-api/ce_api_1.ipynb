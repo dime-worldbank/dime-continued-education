{
  "nbformat": 4,
  "nbformat_minor": 0,
  "metadata": {
    "colab": {
      "name": "ce-api-1.ipynb",
      "provenance": [],
      "collapsed_sections": [],
      "authorship_tag": "ABX9TyOsD72+P7XI6vwiu8IQIuy7",
      "include_colab_link": true
    },
    "kernelspec": {
      "name": "python3",
      "display_name": "Python 3"
    },
    "language_info": {
      "name": "python"
    }
  },
  "cells": [
    {
      "cell_type": "markdown",
      "metadata": {
        "id": "view-in-github",
        "colab_type": "text"
      },
      "source": [
        "<a href=\"https://colab.research.google.com/github/dime-worldbank/dime-continued-education/blob/main/ra-sessions/intro-to-api/ce_api_1.ipynb\" target=\"_parent\"><img src=\"https://colab.research.google.com/assets/colab-badge.svg\" alt=\"Open In Colab\"/></a>"
      ]
    },
    {
      "cell_type": "code",
      "metadata": {
        "id": "fBjdA2R8WmKE"
      },
      "source": [
        "import requests, json"
      ],
      "execution_count": null,
      "outputs": []
    },
    {
      "cell_type": "code",
      "metadata": {
        "id": "FwC2Hb3lXENZ"
      },
      "source": [
        "rates_request = requests.get('https://api.exchangeratesapi.io/latest?base=USD')"
      ],
      "execution_count": null,
      "outputs": []
    },
    {
      "cell_type": "code",
      "metadata": {
        "id": "2c1IKMMwZUoL"
      },
      "source": [
        "variables = {'base':'USD'}\n",
        "rates_request = requests.get('https://api.exchangeratesapi.io/latest', params=variables)"
      ],
      "execution_count": null,
      "outputs": []
    },
    {
      "cell_type": "code",
      "metadata": {
        "id": "7Afoied1Zp2Z"
      },
      "source": [
        "rates_request.url"
      ],
      "execution_count": null,
      "outputs": []
    },
    {
      "cell_type": "code",
      "metadata": {
        "id": "JoT4FgSAXOWA"
      },
      "source": [
        "rates_request.text"
      ],
      "execution_count": null,
      "outputs": []
    },
    {
      "cell_type": "code",
      "metadata": {
        "id": "XvuqLrAYXcSy"
      },
      "source": [
        "rates_dict = json.loads(rates_request.text)"
      ],
      "execution_count": null,
      "outputs": []
    },
    {
      "cell_type": "code",
      "metadata": {
        "id": "Avm4z7TQXsDX"
      },
      "source": [
        "print(rates_dict)\n",
        "print(type(rates_dict))"
      ],
      "execution_count": null,
      "outputs": []
    },
    {
      "cell_type": "code",
      "metadata": {
        "id": "Pz-Tmtf6X0mL"
      },
      "source": [
        "rates_dict['rates']['DKK']"
      ],
      "execution_count": null,
      "outputs": []
    }
  ]
}