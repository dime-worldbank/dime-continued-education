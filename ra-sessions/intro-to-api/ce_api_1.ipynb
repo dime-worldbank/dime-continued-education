{
  "nbformat": 4,
  "nbformat_minor": 0,
  "metadata": {
    "colab": {
      "name": "ce-api-1.ipynb",
      "provenance": [],
      "collapsed_sections": [],
      "authorship_tag": "ABX9TyOpCjbl8dHghFHmsAZL1MtB",
      "include_colab_link": true
    },
    "kernelspec": {
      "name": "python3",
      "display_name": "Python 3"
    },
    "language_info": {
      "name": "python"
    }
  },
  "cells": [
    {
      "cell_type": "markdown",
      "metadata": {
        "id": "view-in-github",
        "colab_type": "text"
      },
      "source": [
        "<a href=\"https://colab.research.google.com/github/dime-worldbank/dime-continued-education/blob/main/ra-sessions/intro-to-api/ce_api_1.ipynb\" target=\"_parent\"><img src=\"https://colab.research.google.com/assets/colab-badge.svg\" alt=\"Open In Colab\"/></a>"
      ]
    },
    {
      "cell_type": "code",
      "metadata": {
        "id": "fBjdA2R8WmKE"
      },
      "source": [
        "import requests, json"
      ],
      "execution_count": null,
      "outputs": []
    },
    {
      "cell_type": "code",
      "metadata": {
        "id": "FwC2Hb3lXENZ"
      },
      "source": [
        "rates = requests.get('https://api.exchangeratesapi.io/latest?base=USD')"
      ],
      "execution_count": null,
      "outputs": []
    },
    {
      "cell_type": "code",
      "metadata": {
        "id": "2c1IKMMwZUoL"
      },
      "source": [
        "variables = {'base':'USD'}\n",
        "rates = requests.get('https://api.exchangeratesapi.io/latest', params=variables)"
      ],
      "execution_count": null,
      "outputs": []
    },
    {
      "cell_type": "code",
      "metadata": {
        "colab": {
          "base_uri": "https://localhost:8080/",
          "height": 36
        },
        "id": "7Afoied1Zp2Z",
        "outputId": "654aed3c-00ad-450f-ce6b-55a45e110b1c"
      },
      "source": [
        "rates.url"
      ],
      "execution_count": null,
      "outputs": [
        {
          "output_type": "execute_result",
          "data": {
            "application/vnd.google.colaboratory.intrinsic+json": {
              "type": "string"
            },
            "text/plain": [
              "'https://api.exchangeratesapi.io/latest?base=USD'"
            ]
          },
          "metadata": {
            "tags": []
          },
          "execution_count": 31
        }
      ]
    },
    {
      "cell_type": "code",
      "metadata": {
        "colab": {
          "base_uri": "https://localhost:8080/",
          "height": 72
        },
        "id": "JoT4FgSAXOWA",
        "outputId": "965e5e29-ea34-40e4-ba61-05bfb47f7c15"
      },
      "source": [
        "rates.text"
      ],
      "execution_count": null,
      "outputs": [
        {
          "output_type": "execute_result",
          "data": {
            "application/vnd.google.colaboratory.intrinsic+json": {
              "type": "string"
            },
            "text/plain": [
              "'{\"rates\":{\"CAD\":0.3055243082,\"HKD\":1.8875912707,\"ISK\":30.3315403023,\"PHP\":11.8174380791,\"DKK\":1.5208721085,\"HUF\":74.9616509521,\"CZK\":5.3582312396,\"GBP\":0.1762992657,\"RON\":1.0,\"SEK\":2.0823635285,\"IDR\":3498.5744380586,\"INR\":17.6103941259,\"BRL\":1.3409281492,\"RUB\":18.4644223099,\"HRK\":1.5494038001,\"JPY\":26.3820996871,\"THB\":7.5305258421,\"CHF\":0.2263309676,\"EUR\":0.2045282556,\"MYR\":1.0019430184,\"BGN\":0.4000163623,\"TRY\":1.9151616796,\"CNY\":1.5823737549,\"NOK\":2.0817499438,\"NZD\":0.3460209028,\"ZAR\":3.5959748839,\"USD\":0.2430409261,\"MXN\":5.0298815781,\"SGD\":0.3263248318,\"AUD\":0.3168347207,\"ILS\":0.7996850265,\"KRW\":274.575092549,\"PLN\":0.9447364653},\"base\":\"RON\",\"date\":\"2021-03-23\"}'"
            ]
          },
          "metadata": {
            "tags": []
          },
          "execution_count": 13
        }
      ]
    },
    {
      "cell_type": "code",
      "metadata": {
        "id": "XvuqLrAYXcSy"
      },
      "source": [
        "json_rates = json.loads(rates.text)"
      ],
      "execution_count": null,
      "outputs": []
    },
    {
      "cell_type": "code",
      "metadata": {
        "colab": {
          "base_uri": "https://localhost:8080/"
        },
        "id": "Avm4z7TQXsDX",
        "outputId": "98ba2003-9e87-43e6-e662-100ff40b44e3"
      },
      "source": [
        "print(json_rates)\n",
        "print(type(json_rates))"
      ],
      "execution_count": null,
      "outputs": [
        {
          "output_type": "stream",
          "text": [
            "{'rates': {'CAD': 1.2570899604, 'HKD': 7.7665572667, 'ISK': 124.8001346461, 'PHP': 48.6232432887, 'DKK': 6.2576790373, 'HUF': 308.4322140874, 'CZK': 22.0466212236, 'GBP': 0.7253892115, 'RON': 4.114533367, 'SEK': 8.5679542203, 'IDR': 14395.0012623075, 'INR': 72.4585542371, 'BRL': 5.5172936127, 'RUB': 75.9724816965, 'HRK': 6.3750736346, 'JPY': 108.5500294538, 'THB': 30.9845998485, 'CHF': 0.9312463183, 'EUR': 0.8415383321, 'MYR': 4.1225279811, 'BGN': 1.6458806699, 'TRY': 7.8799966338, 'CNY': 6.5107296137, 'NOK': 8.5654296053, 'NZD': 1.4237145502, 'ZAR': 14.7957586468, 'USD': 1.0, 'MXN': 20.6956155853, 'SGD': 1.3426744088, 'AUD': 1.3036270302, 'ILS': 3.2903307246, 'KRW': 1129.7483800387, 'PLN': 3.8871497097}, 'base': 'USD', 'date': '2021-03-23'}\n",
            "<class 'dict'>\n"
          ],
          "name": "stdout"
        }
      ]
    },
    {
      "cell_type": "code",
      "metadata": {
        "colab": {
          "base_uri": "https://localhost:8080/"
        },
        "id": "Pz-Tmtf6X0mL",
        "outputId": "50a8319f-c032-47f4-ca5a-95f5f2f8ee94"
      },
      "source": [
        "json_rates['rates']['DKK']"
      ],
      "execution_count": null,
      "outputs": [
        {
          "output_type": "execute_result",
          "data": {
            "text/plain": [
              "6.2576790373"
            ]
          },
          "metadata": {
            "tags": []
          },
          "execution_count": 26
        }
      ]
    }
  ]
}